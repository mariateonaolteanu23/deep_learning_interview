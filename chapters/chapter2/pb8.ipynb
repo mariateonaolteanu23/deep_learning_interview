{
 "cells": [
  {
   "cell_type": "markdown",
   "metadata": {},
   "source": [
    "#### Assume the probability of an event occurring is p = 0.1.\n",
    "\n",
    "1. What are the odds of the event occurring?\n",
    "2. What are the log-odds of the event occurring?\n",
    "3. Construct the probability of the event as a ratio that equals 0.1."
   ]
  },
  {
   "cell_type": "markdown",
   "metadata": {},
   "source": [
    "1. odds = $\\frac{0.1}{0.9}$ = 0.11 "
   ]
  },
  {
   "cell_type": "markdown",
   "metadata": {},
   "source": [
    "2. log-odds = ln(odds) = ln($\\frac{1}{9}$) = -2.19"
   ]
  },
  {
   "cell_type": "markdown",
   "metadata": {},
   "source": [
    "3. \n",
    "\n",
    "$odds = \\frac{prob}{1-prob}$ \n",
    "\n",
    "$odds - odds \\cdot prob = prob$\n",
    "\n",
    "$prob = \\frac{odds}{odds + 1}$ with odds = $\\frac{1}{9}$\n",
    "\n",
    "check: $0.1 = \\frac{\\frac{1}{9}}{\\frac{1}{9} + 1}$ \n"
   ]
  }
 ],
 "metadata": {
  "language_info": {
   "name": "python"
  }
 },
 "nbformat": 4,
 "nbformat_minor": 2
}
