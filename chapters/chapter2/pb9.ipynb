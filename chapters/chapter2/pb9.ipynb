{
 "cells": [
  {
   "cell_type": "markdown",
   "metadata": {},
   "source": [
    "#### **True or False**: If the odds of success in a binary response is 4, the corresponding probability of success is 0.8.\n",
    "-----"
   ]
  },
  {
   "cell_type": "markdown",
   "metadata": {},
   "source": [
    "$p_{succ}$ = 0.8 => $p_{fail}$ = 0.2\n",
    "\n",
    "odds of success = $\\frac{p_{succ}}{p_{fail}}$ = $\\frac{0.8}{0.2}$ = 4\n",
    "\n",
    "ANSWER: True"
   ]
  }
 ],
 "metadata": {
  "language_info": {
   "name": "python"
  }
 },
 "nbformat": 4,
 "nbformat_minor": 2
}
