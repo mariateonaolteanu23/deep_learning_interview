{
 "cells": [
  {
   "cell_type": "markdown",
   "metadata": {},
   "source": [
    "### Define the terms likelihood and log-likelihood of a discrete random variable X given a fixed parameter of interest γ. Give a practical example of such scenario and derive its likelihood and log-likelihood.\n",
    "-----"
   ]
  },
  {
   "cell_type": "markdown",
   "metadata": {},
   "source": [
    "**likelihood** - the probability of (observing) data given a model (or parameter):\n",
    "\n",
    "L(γ|X) = P(X|γ) - probability of X given parameter γ\\\n",
    "L(γ|X) = $\\prod_{i=1}^{n}$ P(X=$x_i$|γ)\n",
    "\n",
    "**log-likelihood**: \n",
    "\n",
    "l(γ|X) = ln(L(γ|X))"
   ]
  },
  {
   "cell_type": "markdown",
   "metadata": {},
   "source": [
    "Example: **Coin Toss**\n",
    "\n",
    "We consider the following:\n",
    "\n",
    "- heads: X = 1 \n",
    "\n",
    "- tails: X = 0\n",
    "\n",
    "- P(X=1|γ) = $\\alpha$ and P(X=0|γ) = 1 - $\\alpha$\n",
    "\n",
    "Thus, we obtain:\n",
    "\n",
    "L(X=1|γ) = P(X=1|γ) = $\\alpha$\n",
    "\n",
    "l(X=1|γ) = ln(L(X=1|γ)) = ln $\\alpha$\n",
    "\n",
    "Note: if $\\alpha$ > 1/2 or $\\alpha$ < 1.2 then the coin is biased\n"
   ]
  },
  {
   "cell_type": "markdown",
   "metadata": {},
   "source": [
    "-----"
   ]
  },
  {
   "cell_type": "markdown",
   "metadata": {},
   "source": [
    "**EXTRA:** The likelihood function may also follow continuous distributions such as the normal\n",
    "distribution. In the latter, it is recommended and often obligatory to employ the log-likelihood.\n",
    "Why? We encourage the reader to modify the above to the continuous case of normal distribution and derive the answer."
   ]
  },
  {
   "cell_type": "markdown",
   "metadata": {},
   "source": [
    "TODO"
   ]
  }
 ],
 "metadata": {
  "language_info": {
   "name": "python"
  }
 },
 "nbformat": 4,
 "nbformat_minor": 2
}
