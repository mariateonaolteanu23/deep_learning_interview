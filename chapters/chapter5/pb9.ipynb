{
 "cells": [
  {
   "cell_type": "markdown",
   "metadata": {},
   "source": [
    "### Find the 101th degree Taylor polynomial centered at x = 0 for: f(x) = cos(x)\n",
    "\n",
    "-------\n"
   ]
  },
  {
   "cell_type": "markdown",
   "metadata": {},
   "source": [
    "$P_n(x) = f(a) + f'(a)(x - a) + \\frac{f''(a)}{2!}(x - a)^2 + \\cdots + \\frac{f^{(n)}(a)}{n!}(x - a)^n$"
   ]
  },
  {
   "cell_type": "markdown",
   "metadata": {},
   "source": [
    "$f(x) = cos(x)$\n",
    "\n",
    "$f'(x) = -sin(x)$\n",
    "\n",
    "$f''(x) = -cos(x)$\n",
    "\n",
    "$\\cdots$\n",
    "\n",
    "$\n",
    "f^{(n)}(x) =\n",
    "\\begin{cases} \n",
    "\\cos(x), & \\text{if } n \\mod 4 = 0, \\\\\n",
    "-\\sin(x), & \\text{if } n \\mod 4 = 1, \\\\\n",
    "-\\cos(x), & \\text{if } n \\mod 4 = 2, \\\\\n",
    "\\sin(x), & \\text{if } n \\mod 4 = 3.\n",
    "\\end{cases}\n",
    "$"
   ]
  },
  {
   "cell_type": "markdown",
   "metadata": {},
   "source": [
    "$P_{101}(x) = cos(0) - sin(0) \\cdot x - \\frac{cos(0)}{2!}x^2 + \\cdots - \\frac{sin(0)}{101!}x^{101}$\n",
    "\n",
    "$P_{101}(x) = 1 -\\frac{1}{2!}x^2 + \\cdots - \\frac{1}{100!}x^{100}$\n",
    "\n",
    "$P_{101}(x) = 1 -\\frac{1}{2!}x^2 + \\frac{1}{4!}x^4 -\\frac{1}{6!}x^6 + \\cdots - \\frac{1}{100!}x^{100}$\n",
    "\n",
    "$P_{101}(x) = \\sum_{i=1}^{n=50} \\frac{(-1)^{n}}{2n!}x^{2n}$"
   ]
  }
 ],
 "metadata": {
  "language_info": {
   "name": "python"
  }
 },
 "nbformat": 4,
 "nbformat_minor": 2
}
