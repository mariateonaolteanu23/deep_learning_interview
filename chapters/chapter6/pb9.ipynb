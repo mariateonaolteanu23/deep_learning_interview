{
 "cells": [
  {
   "cell_type": "markdown",
   "metadata": {},
   "source": [
    "### **True or False:** A perfect ensemble comprises of highly correct classifiers that differ as much as possible.\n",
    "\n",
    "-------"
   ]
  },
  {
   "cell_type": "markdown",
   "metadata": {},
   "source": [
    "**ANSWER:** True\n",
    "\n",
    "Intuition: The Random Forest model (which uses an ensemble of trees) mitigates heavily correlated trees by introducing randomness (different parameters) => the statement \"differ as much as possible\" is justified/true. \n",
    "\n",
    "Also, see *Neural Network Ensembles, Cross Validation, and Active* Learning paper."
   ]
  }
 ],
 "metadata": {
  "language_info": {
   "name": "python"
  }
 },
 "nbformat": 4,
 "nbformat_minor": 2
}
