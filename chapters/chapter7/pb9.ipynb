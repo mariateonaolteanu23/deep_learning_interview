{
 "cells": [
  {
   "cell_type": "markdown",
   "metadata": {},
   "source": [
    "#### Still referring to Table (9.3), a data scientist suggests using the output layer of the VGG19 CNN as a fixed FE. What is the main advantage of using this layer over using for instance, the fc7 layer? (Hint: think about an ensemble of feature extractors)\n",
    "\n",
    "![Alt text](./../../imgs/table_9.3.png)\n",
    "-----"
   ]
  },
  {
   "cell_type": "markdown",
   "metadata": {},
   "source": [
    "If we consider an ensemble of FEs (feature extractors), the advantage having the output layer of the VGG19 CNN as a fixed FE is that there are other well-known CNNs have the same output size (given by the number of classes). If we used the fc7 (fully connected) layer as the output layer, we have to adapt the other feature extractors to have the same output configurations, consequently we would have to adapt all feature extractors.\n",
    "\n",
    "However, a fully connected layer is not the ideal solution for image FE (weak spatial correlation). The last layers should be composed out of convolutional or max pooling layers to obtain spatially rich feature maps (rather than fully connected layers). Though, this is not suitable for an ensemble of FEs for the same reason presented above for the FC layer: the last convolutional layers or max pooling could be of different dimensions.  "
   ]
  }
 ],
 "metadata": {
  "language_info": {
   "name": "python"
  }
 },
 "nbformat": 4,
 "nbformat_minor": 2
}
