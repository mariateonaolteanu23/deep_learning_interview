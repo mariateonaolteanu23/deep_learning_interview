{
 "cells": [
  {
   "cell_type": "markdown",
   "metadata": {},
   "source": [
    "#### The equation is commonly used in image processing:\n",
    "\n",
    "#### $(f * g)(t) = \\int_{-\\infty}^\\infty f(\\tau) g(t - \\tau) \\, d\\tau$\n",
    "\n",
    "#### 1. What does the equation represent?\n",
    "\n",
    "#### 2. What does g(t) represent?"
   ]
  },
  {
   "cell_type": "markdown",
   "metadata": {},
   "source": [
    "1. This equation describes the convolutional operation\n",
    "2. g(t) represents the kernel (filter) applied to the input function f(t)\n",
    "\n",
    "f(t) - input image/signal\n",
    "\n",
    "t - the point (or time stamp) where the kernel is applied \n"
   ]
  }
 ],
 "metadata": {
  "language_info": {
   "name": "python"
  }
 },
 "nbformat": 4,
 "nbformat_minor": 2
}
